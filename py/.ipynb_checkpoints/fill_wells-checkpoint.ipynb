{
 "cells": [
  {
   "cell_type": "code",
   "execution_count": 66,
   "metadata": {
    "collapsed": true
   },
   "outputs": [],
   "source": [
    "import numpy as np\n",
    "import pandas as pd\n",
    "import sys\n",
    "import os\n",
    "import itertools"
   ]
  },
  {
   "cell_type": "code",
   "execution_count": 3,
   "metadata": {
    "collapsed": true
   },
   "outputs": [],
   "source": [
    "SELECTED = [\n",
    "    \"M1\", \"M2\", \"M4\"   \n",
    "]\n",
    "selected_blocks = SELECTED"
   ]
  },
  {
   "cell_type": "code",
   "execution_count": 94,
   "metadata": {
    "collapsed": true
   },
   "outputs": [],
   "source": [
    "block_ids = [0,1,4]"
   ]
  },
  {
   "cell_type": "code",
   "execution_count": null,
   "metadata": {
    "collapsed": true
   },
   "outputs": [],
   "source": [
    "\"\"\"To generate plate map\"\"\"\n",
    "row = 0\n",
    "col = 0\n",
    "i = 0\n",
    "row_chr = 65\n",
    "plate_nrows = 8\n",
    "plate_ncols = 12\n",
    "\n",
    "plate_grid = np.empty([96,3])\n",
    "while row < plate_nrows:\n",
    "    row_label = row_chr + row\n",
    "    while col < plate_ncols:\n",
    "        well = [i, row, col+1]\n",
    "        \n",
    "        col += 1\n",
    "    \n",
    "    row += 1"
   ]
  },
  {
   "cell_type": "code",
   "execution_count": 148,
   "metadata": {
    "collapsed": true
   },
   "outputs": [],
   "source": [
    "\"\"\"Gets number of all possible combinations\"\"\"\n",
    "num_combs = int(sum([spymis.comb(len(block_ids),i) for i in range(len(block_ids)+1)]))\n",
    "wells = np.zeros([num_combs, len(block_ids)], dtype=int)\n",
    "# well_ids = range(num_combs)\n",
    "\n",
    "\"\"\"Generate a *regular array*, each row as one well\"\"\"\n",
    "w = 0\n",
    "for i in range(len(block_ids)+1):\n",
    "    for c in itertools.combinations(range(len(block_ids)), i):\n",
    "        wells[w][list(c)] = 1\n",
    "        w += 1\n",
    "\n",
    "wells_df = pd.DataFrame(wells, columns=block_ids)\n",
    "wells_df.index.name = \"well_id\"\n",
    "wells_df.columns.name = \"block_id\"\n"
   ]
  },
  {
   "cell_type": "code",
   "execution_count": 154,
   "metadata": {
    "collapsed": false
   },
   "outputs": [],
   "source": [
    "# sample string fill\n",
    "prompt_str = \"Add %d equivalents of %s to well %d.\"%(2,str(0),1)"
   ]
  },
  {
   "cell_type": "code",
   "execution_count": 131,
   "metadata": {
    "collapsed": true
   },
   "outputs": [],
   "source": [
    "# \"\"\"Generate plate grid table ref (well_id vs row/col name/id)\n",
    "\n",
    "# As of 9 Mar 2017 -- incomplete / glitchy\n",
    "# \"\"\"\n",
    "\n",
    "# def fill_grid_coords(r):\n",
    "#     row = np.floor(plate_ncols * 1. / r.well_id)\n",
    "#     col = plate_nrows % (r.well_id + 1)\n",
    "#     pad = \"0\"*(np.floor(plate_ncols*1./(col+1)))\n",
    "#     label = \"%s%s%d\"%(chr(int(first_chr + row)), pad, col)\n",
    "#     r[['row','col','label']] = [row, col, label]\n",
    "#     return r\n",
    "\n",
    "# first_chr = 65\n",
    "\n",
    "# grid = pd.DataFrame(columns=['well_id','row','col','label'])\n",
    "# grid['well_id'] = range(plate_nrows * plate_ncols)\n",
    "# grid.apply(fill_grid_coords, axis=1)"
   ]
  },
  {
   "cell_type": "code",
   "execution_count": 132,
   "metadata": {
    "collapsed": false
   },
   "outputs": [],
   "source": [
    "# # one-indexed for to be consistent with standard well plates\n",
    "# i = 0\n",
    "# # corresponds to ASCII ordinal for \"A\"\n",
    "# # minus one because 1 indexed\n",
    "# ord_row = 65\n",
    "# # nrows just in case; not really used as of 8 Mar 2017\n",
    "# plate_nrows = 8\n",
    "# plate_ncols = 12\n",
    "\n",
    "# row = 0\n",
    "# while row < plate_nrows:\n",
    "#     row_m = chr(row+1)\n",
    "#     col = 0\n",
    "#     # number of columns in plate (assume 96 well)\n",
    "#     while col < plate_ncols:\n",
    "#         well = [i+1, row_m, col+1]\n",
    "#         grid_names[i] = well\n",
    "#         col += 1\n",
    "#         i+=1\n",
    "        \n",
    "#     row += 1"
   ]
  }
 ],
 "metadata": {
  "kernelspec": {
   "display_name": "Python 2",
   "language": "python",
   "name": "python2"
  },
  "language_info": {
   "codemirror_mode": {
    "name": "ipython",
    "version": 2
   },
   "file_extension": ".py",
   "mimetype": "text/x-python",
   "name": "python",
   "nbconvert_exporter": "python",
   "pygments_lexer": "ipython2",
   "version": "2.7.11"
  }
 },
 "nbformat": 4,
 "nbformat_minor": 1
}
