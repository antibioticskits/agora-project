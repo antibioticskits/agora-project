{
 "cells": [
  {
   "cell_type": "code",
   "execution_count": 1,
   "metadata": {
    "collapsed": true
   },
   "outputs": [],
   "source": [
    "import numpy as np\n",
    "from scipy import misc\n",
    "import pandas as pd\n",
    "from itertools import combinations, chain"
   ]
  },
  {
   "cell_type": "code",
   "execution_count": 3,
   "metadata": {
    "collapsed": false
   },
   "outputs": [],
   "source": [
    "BLOCK_LOOKUP_FPATH = \"block_lookup.csv\"\n",
    "block_lookup = pd.DataFrame.from_csv(BLOCK_LOOKUP_FPATH,\n",
    "                                    header=0, index_col=None)\n",
    "wells_lookup = pd.DataFrame.from_csv(\"data/well_table.csv\")"
   ]
  },
  {
   "cell_type": "code",
   "execution_count": 4,
   "metadata": {
    "collapsed": true
   },
   "outputs": [],
   "source": [
    "choices = {\n",
    "    \"initiator\":['I1'],\n",
    "    \"monomer\":['M1','M3','M4'],\n",
    "    \"terminator\":['T1']\n",
    "}\n",
    "restrictions = {\n",
    "    'initiator': 1,\n",
    "    'monomer': 3,\n",
    "    'terminator': 1\n",
    "}\n",
    "keys = ['initiator', 'monomer', 'terminator']\n",
    "cat_abbr = {'initiator':'I', 'monomer':'M', 'terminator':'T'}\n",
    "selected = block_lookup[ block_lookup.block_id.isin(\n",
    "            np.concatenate(choices.values())\n",
    "        ) ]"
   ]
  },
  {
   "cell_type": "code",
   "execution_count": 5,
   "metadata": {
    "collapsed": false
   },
   "outputs": [],
   "source": [
    "# raw_input(\"enter here\")"
   ]
  },
  {
   "cell_type": "code",
   "execution_count": 6,
   "metadata": {
    "collapsed": false
   },
   "outputs": [
    {
     "name": "stdout",
     "output_type": "stream",
     "text": [
      "We're good on the number of blocks selected!\n"
     ]
    }
   ],
   "source": [
    "\n",
    "def check_input_lengths():\n",
    "    \n",
    "    for btype in restrictions.keys()+choices.keys():\n",
    "        error_track = \"something else\"\n",
    "        try:\n",
    "            error_track = \"requirements dictionary\"\n",
    "            allowed_b = restrictions[btype]\n",
    "            error_track = \"given choices\"\n",
    "            given_b = len(choices[btype])\n",
    "            \n",
    "            if given_b != allowed_b:\n",
    "                if given_b < 1:\n",
    "                    print \"Didn't get any blocks for %s. Please choose %d blocks.\"%(btype, allowed_b)\n",
    "                elif given_b < allowed_b:\n",
    "                    print \"We have only %d blocks for %s. Please choose %d blocks.\"%(given_b, btype, allowed_b)\n",
    "                elif given_b > allowed_b:\n",
    "                    print \"%d blocks are too many for %s! Please choose %d blocks.\"%(given_b, btype, allowed_b)\n",
    "                return False\n",
    "        except KeyError as keyerror:\n",
    "            print \"Can't find '%s' in %s.\"%(btype, error_track)\n",
    "            return False\n",
    "        \n",
    "        \n",
    "    print \"We're good on the number of blocks selected!\"\n",
    "    return True\n",
    "success = check_input_lengths()"
   ]
  },
  {
   "cell_type": "code",
   "execution_count": 7,
   "metadata": {
    "collapsed": false
   },
   "outputs": [],
   "source": [
    "\n",
    "def subchain(x):\n",
    "    vals = choices[x]\n",
    "    return chain.from_iterable(\n",
    "        combinations(vals, i) for i in range(1, len(vals)+1))\n",
    "\n",
    "def define_reactions(inits, monos, terms):\n",
    "    output = [('','','')]\n",
    "    for i_set in subchain(inits):   # initiators\n",
    "        for m_set in subchain(monos):   # monomers\n",
    "            for t_set in subchain(terms):   # terminators\n",
    "                \n",
    "                output.append( (i_set, m_set, t_set))\n",
    "    return output"
   ]
  },
  {
   "cell_type": "code",
   "execution_count": 8,
   "metadata": {
    "collapsed": false
   },
   "outputs": [],
   "source": [
    "min_btype = 0\n",
    "\n",
    "def subchain_bin(x, c_min=0, c_max=np.float('inf')):\n",
    "    \"\"\"subchain_bin:\n",
    "    \n",
    "    c_min and c_max are inclusive. x is the set to iterate over\n",
    "    \"\"\"\n",
    "    options = len(x)\n",
    "    c_max = min(c_max, options)\n",
    "    return chain.from_iterable(\n",
    "        combinations(range(options), i) for i in range(c_min, c_max+1))\n",
    "\n",
    "def fill_form(sub, s_form):\n",
    "    \"\"\"Helper for define_reactions_bins\"\"\"\n",
    "    s_entry = s_form.copy()\n",
    "    if len(sub) > 0:\n",
    "        s_entry[np.array(sub)] = 1\n",
    "    return s_entry\n",
    "\n",
    "def define_reactions_bin(keys_ordered, maxes=None): \n",
    "    # init objects\n",
    "    output = []\n",
    "    sets = np.array([np.array(choices[c]) for c in keys_ordered])\n",
    "    forms = np.array([np.zeros(len(s)) for s in sets])\n",
    "    i_set, m_set, t_set = sets\n",
    "    i_form, m_form, t_form = forms\n",
    "    if maxes == None:\n",
    "        maxes = (1,len(m_set),1)\n",
    "    else:\n",
    "        maxes = [len(s) if m < 1 else m for s,m in zip(sets,maxes)]\n",
    "    i_max, m_max, t_max = maxes\n",
    "    i_min = 0\n",
    "    # could also just iterate through set but for consistency and \n",
    "    # generalization, i and t options are kept as subchains\n",
    "    for i_sub in subchain_bin(i_set, i_min, i_max):   # initiators (max 1)\n",
    "        i_entry = fill_form(i_sub, i_form)\n",
    "#         this_t_max = t_max if len(i_sub) > 0 else 1\n",
    "#         this_t_min = min(1, len(i_sub))\n",
    "        this_t_min, this_t_max = 0,t_max\n",
    "        for t_sub in subchain_bin(t_set, this_t_min, this_t_max):   # terminators (max 1)\n",
    "            t_entry = fill_form(t_sub, t_form)\n",
    "            # 1 if there is/are no initiator and/or terminator, else 0\n",
    "            this_m_min, this_m_max = (1,1) if min(len(i_sub),len(t_sub))==0 else (0, m_max)\n",
    "#             this_m_min, this_m_max = 0,m_max\n",
    "            for m_sub in subchain_bin(m_set, this_m_min, this_m_max):   # monomers\n",
    "                m_entry = fill_form(m_sub, m_form)\n",
    "                full_entry = np.array([i_entry, m_entry, t_entry])\n",
    "                output.append(full_entry)\n",
    "    output.append(forms.copy())\n",
    "    output_nparray = np.array(output)\n",
    "    return output_nparray"
   ]
  },
  {
   "cell_type": "markdown",
   "metadata": {
    "collapsed": true
   },
   "source": [
    "#### RULES\n",
    "1.  may try i, t (no m)\n",
    "2.  may try no i or no t with ONE m. \n",
    "3.  combos of i, m, and t.\n",
    "\n"
   ]
  },
  {
   "cell_type": "code",
   "execution_count": 9,
   "metadata": {
    "collapsed": false
   },
   "outputs": [],
   "source": [
    "# key order, named as indiv vars for clarity\n",
    "maxes = [2,0,2]\n",
    "combos_arr = define_reactions_bin(keys, maxes)\n"
   ]
  },
  {
   "cell_type": "code",
   "execution_count": 10,
   "metadata": {
    "collapsed": false
   },
   "outputs": [],
   "source": [
    "# build combos equivalence table (can use to export to db)\n",
    "columns_index = pd.MultiIndex.from_tuples( [(k,b) for k in keys for b in choices[k]], \n",
    "                                    names=['category','block_id'])\n",
    "index_wells = pd.Index(range(0,len(combos_arr)), name='well_id')\n",
    "combos = pd.DataFrame([np.concatenate(row) for row in combos_arr], \n",
    "                         columns=columns_index, index=index_wells, dtype=int)"
   ]
  },
  {
   "cell_type": "code",
   "execution_count": 11,
   "metadata": {
    "collapsed": false,
    "scrolled": true
   },
   "outputs": [],
   "source": [
    "def write_well_content(row):\n",
    "    isnull = \"\"\n",
    "    values = []\n",
    "    categories = row.index.levels[0].values\n",
    "    has_b = 0\n",
    "    for cat in categories:\n",
    "#         present = row[cat].where(row[cat]>0).dropna().to_dict().keys()\n",
    "        non_zero = row[cat].where(row[cat]>0).dropna()\n",
    "        present = non_zero.reset_index()['block_id'].values\n",
    "        # ORDERING -- can be changed\n",
    "        present = sorted(present)\n",
    "        text = \", \".join(present) if len(present) > 0 else isnull\n",
    "        has_b += min(1,len(present))\n",
    "        values.append(text)\n",
    "    output = pd.Series(values, index=categories)\n",
    "    return output\n",
    "\n",
    "# last well is neg control\n",
    "wells = combos.apply(write_well_content, axis=1).reset_index(drop=True)"
   ]
  },
  {
   "cell_type": "code",
   "execution_count": 12,
   "metadata": {
    "collapsed": true
   },
   "outputs": [],
   "source": [
    "drop_samples = [1,2,4,5,7,8]\n",
    "wells_mod = wells.drop(drop_samples)\n",
    "wells_mod.reset_index(inplace=True, drop=True)"
   ]
  },
  {
   "cell_type": "code",
   "execution_count": 13,
   "metadata": {
    "collapsed": false
   },
   "outputs": [],
   "source": [
    "wells_mod['sample'] = range(1, len(wells_mod)+1)\n",
    "# assign wells (this is auto)\n",
    "wells_mod['well_id'] = range(len(wells_mod)) \n",
    "wells_mod['well_name'] = wells_mod.well_id.apply(lambda x: wells_lookup.loc[x,'well_name'])\n",
    "wells_mod.set_index('well_id',inplace=True)"
   ]
  },
  {
   "cell_type": "code",
   "execution_count": 17,
   "metadata": {
    "collapsed": false
   },
   "outputs": [
    {
     "data": {
      "text/plain": [
       "'{\"0\":{\"initiator\":\"\",\"monomer\":\"M1\",\"terminator\":\"\",\"sample\":1,\"well_name\":\"A01\"},\"1\":{\"initiator\":\"\",\"monomer\":\"M1\",\"terminator\":\"T1\",\"sample\":2,\"well_name\":\"A02\"},\"2\":{\"initiator\":\"I1\",\"monomer\":\"M1\",\"terminator\":\"\",\"sample\":3,\"well_name\":\"A03\"},\"3\":{\"initiator\":\"I1\",\"monomer\":\"\",\"terminator\":\"T1\",\"sample\":4,\"well_name\":\"A04\"},\"4\":{\"initiator\":\"I1\",\"monomer\":\"M1\",\"terminator\":\"T1\",\"sample\":5,\"well_name\":\"A05\"},\"5\":{\"initiator\":\"I1\",\"monomer\":\"M3\",\"terminator\":\"T1\",\"sample\":6,\"well_name\":\"A06\"},\"6\":{\"initiator\":\"I1\",\"monomer\":\"M4\",\"terminator\":\"T1\",\"sample\":7,\"well_name\":\"A07\"},\"7\":{\"initiator\":\"I1\",\"monomer\":\"M1, M3\",\"terminator\":\"T1\",\"sample\":8,\"well_name\":\"A08\"},\"8\":{\"initiator\":\"I1\",\"monomer\":\"M1, M4\",\"terminator\":\"T1\",\"sample\":9,\"well_name\":\"A09\"},\"9\":{\"initiator\":\"I1\",\"monomer\":\"M3, M4\",\"terminator\":\"T1\",\"sample\":10,\"well_name\":\"A10\"},\"10\":{\"initiator\":\"I1\",\"monomer\":\"M1, M3, M4\",\"terminator\":\"T1\",\"sample\":11,\"well_name\":\"A11\"},\"11\":{\"initiator\":\"\",\"monomer\":\"\",\"terminator\":\"\",\"sample\":12,\"well_name\":\"A12\"}}'"
      ]
     },
     "execution_count": 17,
     "metadata": {},
     "output_type": "execute_result"
    }
   ],
   "source": [
    "wells_mod.T.to_json()"
   ]
  },
  {
   "cell_type": "code",
   "execution_count": 18,
   "metadata": {
    "collapsed": false
   },
   "outputs": [],
   "source": [
    "wells_mod.T.to_json(\"well_combinations.csv\", orient='index')"
   ]
  },
  {
   "cell_type": "code",
   "execution_count": null,
   "metadata": {
    "collapsed": true
   },
   "outputs": [],
   "source": []
  },
  {
   "cell_type": "code",
   "execution_count": null,
   "metadata": {
    "collapsed": false,
    "scrolled": true
   },
   "outputs": [],
   "source": [
    "wells_mod.to_json('wells_listed-idx-well_id.json', orient='index')"
   ]
  },
  {
   "cell_type": "code",
   "execution_count": null,
   "metadata": {
    "collapsed": false
   },
   "outputs": [],
   "source": [
    "wells_mod"
   ]
  },
  {
   "cell_type": "code",
   "execution_count": null,
   "metadata": {
    "collapsed": true
   },
   "outputs": [],
   "source": []
  },
  {
   "cell_type": "markdown",
   "metadata": {},
   "source": [
    "# OTHER THINGS"
   ]
  },
  {
   "cell_type": "raw",
   "metadata": {},
   "source": [
    "class MismatchError(Exception):\n",
    "    ERROR_TYPE = [\"too few blocks\", \"too many blocks\", \"other error\"]\n",
    "    def __init__(self, e, cat, require, given):\n",
    "        # what value is given\n",
    "#         error_lookup\n",
    "        self.error = e\n",
    "        self.cat = cat\n",
    "        self.require = require\n",
    "        self.given = given\n",
    "        \n",
    "    def __str__(self):\n",
    "        # returns error message\n",
    "        msg = \"Oops! Here's what went wrong with %s: %s.\"%(self.cat, self.ERROR_TYPE[self.error])\n",
    "        return repr(msg)\n",
    "    \n",
    "def check_b(a,b, btype, e):\n",
    "    if a!=b:\n",
    "        print \"oops\"\n",
    "        return MismatchError(e,btype,a,b)\n",
    "\n",
    "def check_input_lengths():\n",
    "    for btype in restrictions.keys()+choices.keys():\n",
    "        error_track = \"Something's wrong with the block names.\"\n",
    "        try:\n",
    "            error_track = \"requirements dictionary\"\n",
    "            allowed_b = restrictions[btype]\n",
    "            error_track = \"given choices\"\n",
    "            given_b = len(choices[btype])\n",
    "            \n",
    "            \n",
    "            \n",
    "            check_b(given_b, allowed_b, btype, 0)\n",
    "            print given_b, allowed_b, btype\n",
    "#             if given_b != allowed_b:\n",
    "#                 check_b\n",
    "#                 MismatchError(0, btype, allowed_b, given_b)\n",
    "\n",
    "        except KeyError as keyerror:\n",
    "            print \"Can't find '%s' in %s.\"%(btype, error_track)\n",
    "            return False\n",
    "        except MismatchError as e:\n",
    "            print e.message\n",
    "            return False\n",
    "        \n",
    "    print \"We're good on the number of blocks selected!\"\n",
    "    return True\n"
   ]
  }
 ],
 "metadata": {
  "kernelspec": {
   "display_name": "Python 2",
   "language": "python",
   "name": "python2"
  },
  "language_info": {
   "codemirror_mode": {
    "name": "ipython",
    "version": 2
   },
   "file_extension": ".py",
   "mimetype": "text/x-python",
   "name": "python",
   "nbconvert_exporter": "python",
   "pygments_lexer": "ipython2",
   "version": "2.7.11"
  }
 },
 "nbformat": 4,
 "nbformat_minor": 1
}
