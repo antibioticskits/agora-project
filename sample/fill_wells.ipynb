{
 "cells": [
  {
   "cell_type": "code",
   "execution_count": 6,
   "metadata": {
    "collapsed": true
   },
   "outputs": [],
   "source": [
    "import numpy as np\n",
    "import pandas as pd\n",
    "import sys\n",
    "import os\n",
    "import itertools\n",
    "import scipy.misc as spymis"
   ]
  },
  {
   "cell_type": "code",
   "execution_count": 3,
   "metadata": {
    "collapsed": true
   },
   "outputs": [],
   "source": [
    "SELECTED = [\n",
    "    \"M1\", \"M2\", \"M4\"   \n",
    "]\n",
    "selected_blocks = SELECTED"
   ]
  },
  {
   "cell_type": "code",
   "execution_count": 2,
   "metadata": {
    "collapsed": true
   },
   "outputs": [],
   "source": [
    "block_ids = [0,1,4]"
   ]
  },
  {
   "cell_type": "code",
   "execution_count": 4,
   "metadata": {
    "collapsed": true
   },
   "outputs": [],
   "source": [
    "\"\"\"To generate plate map\"\"\"\n",
    "row = 0\n",
    "col = 0\n",
    "i = 0\n",
    "row_chr = 65\n",
    "plate_nrows = 8\n",
    "plate_ncols = 12\n",
    "\n",
    "plate_grid = np.empty([96,3])\n",
    "while row < plate_nrows:\n",
    "    row_label = row_chr + row\n",
    "    while col < plate_ncols:\n",
    "        well = [i, row, col+1]\n",
    "        \n",
    "        col += 1\n",
    "    \n",
    "    row += 1"
   ]
  },
  {
   "cell_type": "code",
   "execution_count": 24,
   "metadata": {
    "collapsed": false
   },
   "outputs": [],
   "source": [
    "\"\"\"Gets number of all possible combinations\"\"\"\n",
    "num_combs = int(sum([spymis.comb(len(block_ids),i) for i in range(len(block_ids)+1)]))\n",
    "wells = np.zeros([num_combs, len(block_ids)], dtype=int)\n",
    "# well_ids = range(num_combs)\n",
    "\n",
    "\"\"\"Generate a *regular array*, each row as one well\"\"\"\n",
    "w = 0\n",
    "for i in range(len(block_ids)+1):\n",
    "    for c in itertools.combinations(range(len(block_ids)), i):\n",
    "        wells[w][list(c)] = 1\n",
    "        w += 1\n",
    "\n",
    "wells_df = pd.DataFrame(wells, columns=block_ids)\n",
    "wells_df.index.name = \"well_id\"\n",
    "wells_df.columns.name = \"block_id\"\n"
   ]
  },
  {
   "cell_type": "code",
   "execution_count": 36,
   "metadata": {
    "collapsed": false
   },
   "outputs": [
    {
     "ename": "TypeError",
     "evalue": "cannot replace [0] with method pad on a DataFrame",
     "output_type": "error",
     "traceback": [
      "\u001b[0;31m---------------------------------------------------------------------------\u001b[0m",
      "\u001b[0;31mTypeError\u001b[0m                                 Traceback (most recent call last)",
      "\u001b[0;32m<ipython-input-36-96085dc33497>\u001b[0m in \u001b[0;36m<module>\u001b[0;34m()\u001b[0m\n\u001b[1;32m      1\u001b[0m \u001b[0mwells_df_print\u001b[0m \u001b[0;34m=\u001b[0m \u001b[0mwells_df\u001b[0m\u001b[0;34m.\u001b[0m\u001b[0mcopy\u001b[0m\u001b[0;34m(\u001b[0m\u001b[0;34m)\u001b[0m\u001b[0;34m\u001b[0m\u001b[0m\n\u001b[1;32m      2\u001b[0m \u001b[0mwells_df_print\u001b[0m\u001b[0;34m.\u001b[0m\u001b[0mcolumns\u001b[0m \u001b[0;34m=\u001b[0m \u001b[0;34m[\u001b[0m\u001b[0;34m\"M%s\"\u001b[0m\u001b[0;34m%\u001b[0m\u001b[0mstr\u001b[0m\u001b[0;34m(\u001b[0m\u001b[0mm\u001b[0m\u001b[0;34m)\u001b[0m \u001b[0;32mfor\u001b[0m \u001b[0mm\u001b[0m \u001b[0;32min\u001b[0m \u001b[0mwells_df\u001b[0m\u001b[0;34m.\u001b[0m\u001b[0mcolumns\u001b[0m\u001b[0;34m]\u001b[0m\u001b[0;34m\u001b[0m\u001b[0m\n\u001b[0;32m----> 3\u001b[0;31m \u001b[0mwells_df_print\u001b[0m\u001b[0;34m.\u001b[0m\u001b[0mreplace\u001b[0m\u001b[0;34m(\u001b[0m\u001b[0;36m0\u001b[0m\u001b[0;34m,\u001b[0m\u001b[0mNone\u001b[0m\u001b[0;34m,\u001b[0m \u001b[0minplace\u001b[0m\u001b[0;34m=\u001b[0m\u001b[0mTrue\u001b[0m\u001b[0;34m)\u001b[0m\u001b[0;34m\u001b[0m\u001b[0m\n\u001b[0m\u001b[1;32m      4\u001b[0m \u001b[0;31m# wells_df.replace(1,[c for c in wells_df.columns])\u001b[0m\u001b[0;34m\u001b[0m\u001b[0;34m\u001b[0m\u001b[0m\n",
      "\u001b[0;32m/Users/vivianleung/anaconda/lib/python2.7/site-packages/pandas/core/generic.pyc\u001b[0m in \u001b[0;36mreplace\u001b[0;34m(self, to_replace, value, inplace, limit, regex, method, axis)\u001b[0m\n\u001b[1;32m   3310\u001b[0m             \u001b[0;32mif\u001b[0m \u001b[0misinstance\u001b[0m\u001b[0;34m(\u001b[0m\u001b[0mto_replace\u001b[0m\u001b[0;34m,\u001b[0m \u001b[0;34m(\u001b[0m\u001b[0mtuple\u001b[0m\u001b[0;34m,\u001b[0m \u001b[0mlist\u001b[0m\u001b[0;34m)\u001b[0m\u001b[0;34m)\u001b[0m\u001b[0;34m:\u001b[0m\u001b[0;34m\u001b[0m\u001b[0m\n\u001b[1;32m   3311\u001b[0m                 return _single_replace(self, to_replace, method, inplace,\n\u001b[0;32m-> 3312\u001b[0;31m                                        limit)\n\u001b[0m\u001b[1;32m   3313\u001b[0m \u001b[0;34m\u001b[0m\u001b[0m\n\u001b[1;32m   3314\u001b[0m             \u001b[0;32mif\u001b[0m \u001b[0;32mnot\u001b[0m \u001b[0mis_dictlike\u001b[0m\u001b[0;34m(\u001b[0m\u001b[0mto_replace\u001b[0m\u001b[0;34m)\u001b[0m\u001b[0;34m:\u001b[0m\u001b[0;34m\u001b[0m\u001b[0m\n",
      "\u001b[0;32m/Users/vivianleung/anaconda/lib/python2.7/site-packages/pandas/core/generic.pyc\u001b[0m in \u001b[0;36m_single_replace\u001b[0;34m(self, to_replace, method, inplace, limit)\u001b[0m\n\u001b[1;32m     47\u001b[0m     \u001b[0;32mif\u001b[0m \u001b[0mself\u001b[0m\u001b[0;34m.\u001b[0m\u001b[0mndim\u001b[0m \u001b[0;34m!=\u001b[0m \u001b[0;36m1\u001b[0m\u001b[0;34m:\u001b[0m\u001b[0;34m\u001b[0m\u001b[0m\n\u001b[1;32m     48\u001b[0m         raise TypeError('cannot replace {0} with method {1} on a {2}'\n\u001b[0;32m---> 49\u001b[0;31m                         .format(to_replace, method, type(self).__name__))\n\u001b[0m\u001b[1;32m     50\u001b[0m \u001b[0;34m\u001b[0m\u001b[0m\n\u001b[1;32m     51\u001b[0m     \u001b[0morig_dtype\u001b[0m \u001b[0;34m=\u001b[0m \u001b[0mself\u001b[0m\u001b[0;34m.\u001b[0m\u001b[0mdtype\u001b[0m\u001b[0;34m\u001b[0m\u001b[0m\n",
      "\u001b[0;31mTypeError\u001b[0m: cannot replace [0] with method pad on a DataFrame"
     ]
    }
   ],
   "source": [
    "wells_df_print = wells_df.copy()\n",
    "wells_df_print.columns = [\"M%s\"%str(m) for m in wells_df.columns]\n",
    "wells_df_print.replace(0,None, inplace=True)\n",
    "# wells_df.replace(1,[c for c in wells_df.columns])"
   ]
  },
  {
   "cell_type": "code",
   "execution_count": 28,
   "metadata": {
    "collapsed": false
   },
   "outputs": [
    {
     "data": {
      "text/html": [
       "<div>\n",
       "<table border=\"1\" class=\"dataframe\">\n",
       "  <thead>\n",
       "    <tr style=\"text-align: right;\">\n",
       "      <th></th>\n",
       "      <th>M0</th>\n",
       "      <th>M1</th>\n",
       "      <th>M4</th>\n",
       "    </tr>\n",
       "    <tr>\n",
       "      <th>well_id</th>\n",
       "      <th></th>\n",
       "      <th></th>\n",
       "      <th></th>\n",
       "    </tr>\n",
       "  </thead>\n",
       "  <tbody>\n",
       "    <tr>\n",
       "      <th>0</th>\n",
       "      <td></td>\n",
       "      <td></td>\n",
       "      <td></td>\n",
       "    </tr>\n",
       "    <tr>\n",
       "      <th>1</th>\n",
       "      <td>1</td>\n",
       "      <td></td>\n",
       "      <td></td>\n",
       "    </tr>\n",
       "    <tr>\n",
       "      <th>2</th>\n",
       "      <td></td>\n",
       "      <td>1</td>\n",
       "      <td></td>\n",
       "    </tr>\n",
       "    <tr>\n",
       "      <th>3</th>\n",
       "      <td></td>\n",
       "      <td></td>\n",
       "      <td>1</td>\n",
       "    </tr>\n",
       "    <tr>\n",
       "      <th>4</th>\n",
       "      <td>1</td>\n",
       "      <td>1</td>\n",
       "      <td></td>\n",
       "    </tr>\n",
       "    <tr>\n",
       "      <th>5</th>\n",
       "      <td>1</td>\n",
       "      <td></td>\n",
       "      <td>1</td>\n",
       "    </tr>\n",
       "    <tr>\n",
       "      <th>6</th>\n",
       "      <td></td>\n",
       "      <td>1</td>\n",
       "      <td>1</td>\n",
       "    </tr>\n",
       "    <tr>\n",
       "      <th>7</th>\n",
       "      <td>1</td>\n",
       "      <td>1</td>\n",
       "      <td>1</td>\n",
       "    </tr>\n",
       "  </tbody>\n",
       "</table>\n",
       "</div>"
      ],
      "text/plain": [
       "        M0 M1 M4\n",
       "well_id         \n",
       "0               \n",
       "1        1      \n",
       "2           1   \n",
       "3              1\n",
       "4        1  1   \n",
       "5        1     1\n",
       "6           1  1\n",
       "7        1  1  1"
      ]
     },
     "execution_count": 28,
     "metadata": {},
     "output_type": "execute_result"
    }
   ],
   "source": [
    "wells_df_print"
   ]
  },
  {
   "cell_type": "code",
   "execution_count": 29,
   "metadata": {
    "collapsed": false,
    "scrolled": true
   },
   "outputs": [
    {
     "name": "stdout",
     "output_type": "stream",
     "text": [
      "Help on method replace in module pandas.core.generic:\n",
      "\n",
      "replace(self, to_replace=None, value=None, inplace=False, limit=None, regex=False, method='pad', axis=None) method of pandas.core.frame.DataFrame instance\n",
      "    Replace values given in 'to_replace' with 'value'.\n",
      "    \n",
      "    Parameters\n",
      "    ----------\n",
      "    to_replace : str, regex, list, dict, Series, numeric, or None\n",
      "    \n",
      "        * str or regex:\n",
      "    \n",
      "            - str: string exactly matching `to_replace` will be replaced\n",
      "              with `value`\n",
      "            - regex: regexs matching `to_replace` will be replaced with\n",
      "              `value`\n",
      "    \n",
      "        * list of str, regex, or numeric:\n",
      "    \n",
      "            - First, if `to_replace` and `value` are both lists, they\n",
      "              **must** be the same length.\n",
      "            - Second, if ``regex=True`` then all of the strings in **both**\n",
      "              lists will be interpreted as regexs otherwise they will match\n",
      "              directly. This doesn't matter much for `value` since there\n",
      "              are only a few possible substitution regexes you can use.\n",
      "            - str and regex rules apply as above.\n",
      "    \n",
      "        * dict:\n",
      "    \n",
      "            - Nested dictionaries, e.g., {'a': {'b': nan}}, are read as\n",
      "              follows: look in column 'a' for the value 'b' and replace it\n",
      "              with nan. You can nest regular expressions as well. Note that\n",
      "              column names (the top-level dictionary keys in a nested\n",
      "              dictionary) **cannot** be regular expressions.\n",
      "            - Keys map to column names and values map to substitution\n",
      "              values. You can treat this as a special case of passing two\n",
      "              lists except that you are specifying the column to search in.\n",
      "    \n",
      "        * None:\n",
      "    \n",
      "            - This means that the ``regex`` argument must be a string,\n",
      "              compiled regular expression, or list, dict, ndarray or Series\n",
      "              of such elements. If `value` is also ``None`` then this\n",
      "              **must** be a nested dictionary or ``Series``.\n",
      "    \n",
      "        See the examples section for examples of each of these.\n",
      "    value : scalar, dict, list, str, regex, default None\n",
      "        Value to use to fill holes (e.g. 0), alternately a dict of values\n",
      "        specifying which value to use for each column (columns not in the\n",
      "        dict will not be filled). Regular expressions, strings and lists or\n",
      "        dicts of such objects are also allowed.\n",
      "    inplace : boolean, default False\n",
      "        If True, in place. Note: this will modify any\n",
      "        other views on this object (e.g. a column form a DataFrame).\n",
      "        Returns the caller if this is True.\n",
      "    limit : int, default None\n",
      "        Maximum size gap to forward or backward fill\n",
      "    regex : bool or same types as `to_replace`, default False\n",
      "        Whether to interpret `to_replace` and/or `value` as regular\n",
      "        expressions. If this is ``True`` then `to_replace` *must* be a\n",
      "        string. Otherwise, `to_replace` must be ``None`` because this\n",
      "        parameter will be interpreted as a regular expression or a list,\n",
      "        dict, or array of regular expressions.\n",
      "    method : string, optional, {'pad', 'ffill', 'bfill'}\n",
      "        The method to use when for replacement, when ``to_replace`` is a\n",
      "        ``list``.\n",
      "    \n",
      "    See Also\n",
      "    --------\n",
      "    NDFrame.reindex\n",
      "    NDFrame.asfreq\n",
      "    NDFrame.fillna\n",
      "    \n",
      "    Returns\n",
      "    -------\n",
      "    filled : NDFrame\n",
      "    \n",
      "    Raises\n",
      "    ------\n",
      "    AssertionError\n",
      "        * If `regex` is not a ``bool`` and `to_replace` is not ``None``.\n",
      "    TypeError\n",
      "        * If `to_replace` is a ``dict`` and `value` is not a ``list``,\n",
      "          ``dict``, ``ndarray``, or ``Series``\n",
      "        * If `to_replace` is ``None`` and `regex` is not compilable into a\n",
      "          regular expression or is a list, dict, ndarray, or Series.\n",
      "    ValueError\n",
      "        * If `to_replace` and `value` are ``list`` s or ``ndarray`` s, but\n",
      "          they are not the same length.\n",
      "    \n",
      "    Notes\n",
      "    -----\n",
      "    * Regex substitution is performed under the hood with ``re.sub``. The\n",
      "      rules for substitution for ``re.sub`` are the same.\n",
      "    * Regular expressions will only substitute on strings, meaning you\n",
      "      cannot provide, for example, a regular expression matching floating\n",
      "      point numbers and expect the columns in your frame that have a\n",
      "      numeric dtype to be matched. However, if those floating point numbers\n",
      "      *are* strings, then you can do this.\n",
      "    * This method has *a lot* of options. You are encouraged to experiment\n",
      "      and play with this method to gain intuition about how it works.\n",
      "\n"
     ]
    }
   ],
   "source": [
    "help(wells_df_print.replace)"
   ]
  },
  {
   "cell_type": "code",
   "execution_count": 34,
   "metadata": {
    "collapsed": false
   },
   "outputs": [],
   "source": [
    "wells_df_print.replace(1,dict([(c,c) for c in wells_df_print.columns]), inplace=True)\n",
    "wells_df_print['listed'] = wells_df_print.apply(lambda x: \", \".join(x.values[x.values!=\"\"]), axis=1)"
   ]
  },
  {
   "cell_type": "code",
   "execution_count": 35,
   "metadata": {
    "collapsed": false
   },
   "outputs": [
    {
     "data": {
      "text/html": [
       "<div>\n",
       "<table border=\"1\" class=\"dataframe\">\n",
       "  <thead>\n",
       "    <tr style=\"text-align: right;\">\n",
       "      <th></th>\n",
       "      <th>M0</th>\n",
       "      <th>M1</th>\n",
       "      <th>M4</th>\n",
       "      <th>listed</th>\n",
       "    </tr>\n",
       "    <tr>\n",
       "      <th>well_id</th>\n",
       "      <th></th>\n",
       "      <th></th>\n",
       "      <th></th>\n",
       "      <th></th>\n",
       "    </tr>\n",
       "  </thead>\n",
       "  <tbody>\n",
       "    <tr>\n",
       "      <th>0</th>\n",
       "      <td></td>\n",
       "      <td></td>\n",
       "      <td></td>\n",
       "      <td>, ,</td>\n",
       "    </tr>\n",
       "    <tr>\n",
       "      <th>1</th>\n",
       "      <td>M0</td>\n",
       "      <td></td>\n",
       "      <td></td>\n",
       "      <td>M0, M0, ,</td>\n",
       "    </tr>\n",
       "    <tr>\n",
       "      <th>2</th>\n",
       "      <td></td>\n",
       "      <td>M1</td>\n",
       "      <td></td>\n",
       "      <td>M1, , M1,</td>\n",
       "    </tr>\n",
       "    <tr>\n",
       "      <th>3</th>\n",
       "      <td></td>\n",
       "      <td></td>\n",
       "      <td>M4</td>\n",
       "      <td>M4, , , M4</td>\n",
       "    </tr>\n",
       "    <tr>\n",
       "      <th>4</th>\n",
       "      <td>M0</td>\n",
       "      <td>M1</td>\n",
       "      <td></td>\n",
       "      <td>M0, M1, M0, M1,</td>\n",
       "    </tr>\n",
       "    <tr>\n",
       "      <th>5</th>\n",
       "      <td>M0</td>\n",
       "      <td></td>\n",
       "      <td>M4</td>\n",
       "      <td>M0, M4, M0, , M4</td>\n",
       "    </tr>\n",
       "    <tr>\n",
       "      <th>6</th>\n",
       "      <td></td>\n",
       "      <td>M1</td>\n",
       "      <td>M4</td>\n",
       "      <td>M1, M4, , M1, M4</td>\n",
       "    </tr>\n",
       "    <tr>\n",
       "      <th>7</th>\n",
       "      <td>M0</td>\n",
       "      <td>M1</td>\n",
       "      <td>M4</td>\n",
       "      <td>M0, M1, M4, M0, M1, M4</td>\n",
       "    </tr>\n",
       "  </tbody>\n",
       "</table>\n",
       "</div>"
      ],
      "text/plain": [
       "         M0  M1  M4                  listed\n",
       "well_id                                    \n",
       "0                                      , , \n",
       "1        M0                      M0, M0, , \n",
       "2            M1                  M1, , M1, \n",
       "3                M4              M4, , , M4\n",
       "4        M0  M1            M0, M1, M0, M1, \n",
       "5        M0      M4        M0, M4, M0, , M4\n",
       "6            M1  M4        M1, M4, , M1, M4\n",
       "7        M0  M1  M4  M0, M1, M4, M0, M1, M4"
      ]
     },
     "execution_count": 35,
     "metadata": {},
     "output_type": "execute_result"
    }
   ],
   "source": [
    "wells_df_print"
   ]
  },
  {
   "cell_type": "code",
   "execution_count": 8,
   "metadata": {
    "collapsed": false
   },
   "outputs": [],
   "source": [
    "# sample string fill\n",
    "prompt_str = \"Add %d equivalents of %s to well %d.\"%(2,str(0),1)"
   ]
  },
  {
   "cell_type": "code",
   "execution_count": 9,
   "metadata": {
    "collapsed": false
   },
   "outputs": [
    {
     "data": {
      "text/plain": [
       "'Add 2 equivalents of 0 to well 1.'"
      ]
     },
     "execution_count": 9,
     "metadata": {},
     "output_type": "execute_result"
    }
   ],
   "source": [
    "prompt_str"
   ]
  },
  {
   "cell_type": "code",
   "execution_count": 131,
   "metadata": {
    "collapsed": true
   },
   "outputs": [],
   "source": [
    "# \"\"\"Generate plate grid table ref (well_id vs row/col name/id)\n",
    "\n",
    "# As of 9 Mar 2017 -- incomplete / glitchy\n",
    "# \"\"\"\n",
    "\n",
    "# def fill_grid_coords(r):\n",
    "#     row = np.floor(plate_ncols * 1. / r.well_id)\n",
    "#     col = plate_nrows % (r.well_id + 1)\n",
    "#     pad = \"0\"*(np.floor(plate_ncols*1./(col+1)))\n",
    "#     label = \"%s%s%d\"%(chr(int(first_chr + row)), pad, col)\n",
    "#     r[['row','col','label']] = [row, col, label]\n",
    "#     return r\n",
    "\n",
    "# first_chr = 65\n",
    "\n",
    "# grid = pd.DataFrame(columns=['well_id','row','col','label'])\n",
    "# grid['well_id'] = range(plate_nrows * plate_ncols)\n",
    "# grid.apply(fill_grid_coords, axis=1)"
   ]
  },
  {
   "cell_type": "code",
   "execution_count": 132,
   "metadata": {
    "collapsed": false
   },
   "outputs": [],
   "source": [
    "# # one-indexed for to be consistent with standard well plates\n",
    "# i = 0\n",
    "# # corresponds to ASCII ordinal for \"A\"\n",
    "# # minus one because 1 indexed\n",
    "# ord_row = 65\n",
    "# # nrows just in case; not really used as of 8 Mar 2017\n",
    "# plate_nrows = 8\n",
    "# plate_ncols = 12\n",
    "\n",
    "# row = 0\n",
    "# while row < plate_nrows:\n",
    "#     row_m = chr(row+1)\n",
    "#     col = 0\n",
    "#     # number of columns in plate (assume 96 well)\n",
    "#     while col < plate_ncols:\n",
    "#         well = [i+1, row_m, col+1]\n",
    "#         grid_names[i] = well\n",
    "#         col += 1\n",
    "#         i+=1\n",
    "        \n",
    "#     row += 1"
   ]
  }
 ],
 "metadata": {
  "kernelspec": {
   "display_name": "Python 2",
   "language": "python",
   "name": "python2"
  },
  "language_info": {
   "codemirror_mode": {
    "name": "ipython",
    "version": 2
   },
   "file_extension": ".py",
   "mimetype": "text/x-python",
   "name": "python",
   "nbconvert_exporter": "python",
   "pygments_lexer": "ipython2",
   "version": "2.7.11"
  }
 },
 "nbformat": 4,
 "nbformat_minor": 1
}
