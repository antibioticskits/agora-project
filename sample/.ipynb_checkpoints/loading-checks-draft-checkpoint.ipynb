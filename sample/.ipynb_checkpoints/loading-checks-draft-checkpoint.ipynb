{
 "cells": [
  {
   "cell_type": "code",
   "execution_count": 4,
   "metadata": {
    "collapsed": true
   },
   "outputs": [],
   "source": [
    "import numpy as np\n",
    "from scipy import misc\n",
    "import pandas as pd\n",
    "import itertools"
   ]
  },
  {
   "cell_type": "code",
   "execution_count": 5,
   "metadata": {
    "collapsed": true
   },
   "outputs": [],
   "source": [
    "INPUT = [\"M1\", 2, \"M3\"]"
   ]
  },
  {
   "cell_type": "code",
   "execution_count": 148,
   "metadata": {
    "collapsed": true
   },
   "outputs": [],
   "source": [
    "# map with [name, uid]\n",
    "MAP = [\n",
    "    [\"M1\",0]\n",
    "    ,[\"M2\",1]\n",
    "    ,[\"M3\",1]\n",
    "    ,[\"M4\"]\n",
    "]\n",
    "\n",
    "# INITIATORS = [\"I1\"]\n",
    "# MONOMERS = [\"M1\",\"M2\",\"M3\"]\n",
    "# TERMINATORS = [\"T1\"]\n",
    "\n",
    "def load_lookup_df(fname):\n",
    "    # init blocks map df\n",
    "    # currrently points to MAP as temp before setting csv intake\n",
    "    fname = MAP\n",
    "    blocks = pd.DataFrame(MAP, columns=['block_name','uid'])\n",
    "    input_ids = np.empty((1,len(INPUT)), dtype=int)[0]\n",
    "    i = 0"
   ]
  },
  {
   "cell_type": "code",
   "execution_count": null,
   "metadata": {
    "collapsed": true
   },
   "outputs": [],
   "source": [
    "\n",
    "def check_lookup(df):\n",
    "    \"\"\"Checks lookup table for any null or duplicate values\"\"\"\n",
    "    assert len(INPUT) > 0, \"No data provided\"\n",
    "    assert len(MAP) > 0, \"No block information provided\"\n",
    "\n",
    "    # if there are missing values in blocks reference table\n",
    "    is_null = blocks.isnull().any(axis=1)\n",
    "    if is_null.sum() > 0:\n",
    "        missing_vals = blocks[is_null]\n",
    "\n",
    "        print \"Missing values!\"\n",
    "        print missing_vals\n",
    "\n",
    "    \n",
    "    # check if there are any null values in blocks table\n",
    "    # is_null = blocks.isnull().any(axis=1)\n",
    "    # if is_null.sum() > 0:\n",
    "    #     missing_vals = blocks[is_null]\n",
    "    #     print missing_vals\n",
    "    #     raise Exception(\"Missing values\", missing_vals)\n",
    "\n",
    "    # check for duplicate values in blocks table\n",
    "    vals = np.array([])\n",
    "    for col in blocks.columns:\n",
    "        values = np.unique(blocks[col], return_counts=True)\n",
    "        vals = values[0]\n",
    "        # in python, 0 means False (1 means True)\n",
    "        is_unique = values[1] == 1 \n",
    "        if min(is_unique) < 1:\n",
    "            print col\n",
    "            print values\n",
    "            print \"something is repeated (which col?, which val?)\"\n",
    "            \n"
   ]
  },
  {
   "cell_type": "code",
   "execution_count": 33,
   "metadata": {
    "collapsed": false
   },
   "outputs": [
    {
     "name": "stdout",
     "output_type": "stream",
     "text": [
      "2 is not a valid block name. Name must be a string or unicode. Stopping run.\n"
     ]
    }
   ],
   "source": [
    "\"\"\"Wrangle input into usable form or notify user\"\"\"\n",
    "def get_user_blocks():\n",
    "    try:\n",
    "        assert np.unique(blocks[''])\n",
    "    while i < len(INPUT):\n",
    "        k = INPUT[i]\n",
    "        try:\n",
    "            # check input blocks_name is string or unicode\n",
    "            assert type(k) in (str, unicode), (k, \"string or unicode\")\n",
    "            uid = blocks.loc[(blocks[\"block_name\"] == k),\"uid\"]\n",
    "            # check that there is only one uid assigned to block_name\n",
    "            # check is also in other section that checks replicates \n",
    "            if len(uid) == 1:\n",
    "                input_ids[i] = uid\n",
    "            else:\n",
    "                raise Exception(\"non-unique\")\n",
    "                break\n",
    "\n",
    "\n",
    "        except AssertionError as e:\n",
    "            print \"%s is not a valid block name. Name must be a %s. Stopping run.\"%(\n",
    "                str(e[0][0]), e[0][1])\n",
    "            break\n",
    "\n",
    "        except KeyError as e:\n",
    "            print \"%s was not found in block map list.\"%str(e)\n",
    "            break\n",
    "\n",
    "        finally:\n",
    "            i += 1\n",
    "            "
   ]
  },
  {
   "cell_type": "code",
   "execution_count": 159,
   "metadata": {
    "collapsed": false
   },
   "outputs": [],
   "source": []
  },
  {
   "cell_type": "code",
   "execution_count": 2,
   "metadata": {
    "collapsed": false
   },
   "outputs": [
    {
     "name": "stdout",
     "output_type": "stream",
     "text": [
      "enter heresafsdf\n"
     ]
    },
    {
     "data": {
      "text/plain": [
       "'safsdf'"
      ]
     },
     "execution_count": 2,
     "metadata": {},
     "output_type": "execute_result"
    }
   ],
   "source": [
    "raw_input(\"enter here\")"
   ]
  }
 ],
 "metadata": {
  "kernelspec": {
   "display_name": "Python 2",
   "language": "python",
   "name": "python2"
  },
  "language_info": {
   "codemirror_mode": {
    "name": "ipython",
    "version": 2
   },
   "file_extension": ".py",
   "mimetype": "text/x-python",
   "name": "python",
   "nbconvert_exporter": "python",
   "pygments_lexer": "ipython2",
   "version": "2.7.11"
  }
 },
 "nbformat": 4,
 "nbformat_minor": 1
}
